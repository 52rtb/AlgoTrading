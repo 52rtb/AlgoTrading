{
 "cells": [
  {
   "cell_type": "markdown",
   "metadata": {},
   "source": [
    "1. 组件\n",
    "==================\n",
    "***\n",
    "\n",
    "* *DataAPI*\n",
    "\n",
    "提供部门内部数据的访问能力，如果开发基于部门数据库(datacenter)的策略需要该模块。\n",
    "\n",
    "* *Finance-Python*\n",
    "\n",
    "主要提供与金融数据相关的计算功能。\n",
    "\n",
    "* *AlgoTrading*\n",
    "\n",
    "基于事件循环的回测引擎。\n",
    "\n",
    "* *VisualPortfolio*\n",
    "\n",
    "策略回测结果的可视化展现。可以单独使用。\n",
    "\n",
    "以上所有的项目都可以在 ``svn`` 中找到，并且 直接通过项目根目录的下的 ``setup.py`` 文件安装：\n",
    "\n",
    "```python\n",
    "    python setup.py install\n",
    "```"
   ]
  },
  {
   "cell_type": "markdown",
   "metadata": {},
   "source": [
    "2. 流程\n",
    "=================\n",
    "***\n",
    "\n",
    "<img src=\"img/流程图.png\">"
   ]
  },
  {
   "cell_type": "markdown",
   "metadata": {
    "collapsed": true
   },
   "source": [
    "3. 如何回测一个策略\n",
    "===================\n",
    "***"
   ]
  },
  {
   "cell_type": "markdown",
   "metadata": {},
   "source": [
    "3. 1 定义策略\n",
    "----------------\n",
    "\n",
    "在 ``AlgoTrading`` 下开发一个自己的策略，最值得关注的事情便是定义自己的 ``stratgy`` 对象，精简的 ``strategy`` 基类定义如下：\n",
    "\n",
    "```python\n",
    "\n",
    "    class Strategy:\n",
    "    \n",
    "        def universe(self): # 返回当前所有订阅的行情代码（包括股票，期货，指数等）\n",
    "        \n",
    "        def tradableAssets(self): # 返回当前所有的可交易字长的代码（不包括指数）\n",
    "        \n",
    "        def current_datetime(self): # 返回当前bar的时间\n",
    "        \n",
    "        def secPos(self): # 返回当前所有持仓情况，是以证券代码为键的字典\n",
    "        \n",
    "        def order(self, symbol, direction, quantity): # 交易指定量的证券\n",
    "        \n",
    "        def order_to(self, symbol, direction, quantity): # 交易指定的证券至指定的量\n",
    "        \n",
    "        ...\n",
    "\n",
    "```\n",
    "这里为了不使篇幅过长，并没有列出所有的成员。所有的成员请参看源代码。\n"
   ]
  },
  {
   "cell_type": "markdown",
   "metadata": {},
   "source": [
    "用户的策略，继承自这个基类，然后自定义需要的行为，一般来说看起来如下:\n",
    "\n",
    "```python\n",
    "\n",
    "    class UserStrategy(strategy):\n",
    "    \n",
    "        def __init__(self):\n",
    "            ...\n",
    "            \n",
    "        def handle_data(self):\n",
    "            ...\n",
    "\n",
    "```"
   ]
  },
  {
   "cell_type": "markdown",
   "metadata": {},
   "source": [
    "其中用户需要自定义的包括两部分：\n",
    "\n",
    "* ``__init__``\n",
    "\n",
    "初始化函数，在策略启动的时候运行，主要用于定义比如：\n",
    "\n",
    "    1. 全局变量\n",
    "    2. 指标（由Finance-Python模块提供）\n",
    "    \n",
    "* ``handle_data``\n",
    "\n",
    "行情数据处理函数，每根bar推送至回测引擎时候出发。这里是用户交易逻辑的主要定义点。"
   ]
  },
  {
   "cell_type": "markdown",
   "metadata": {},
   "source": [
    "3.2 回测\n",
    "--------------\n",
    "\n",
    "当策略就绪之后，直接使用 ``strategyRunner`` 进行回测：\n",
    "\n",
    "```python\n",
    "\n",
    "    strategyRunner(strategy=UserStrategy, ...)\n",
    "\n",
    "```\n",
    "\n",
    "在 ``strategyRunner`` 中需要补充下面几个必填参数：\n",
    "\n",
    "1. ``symbolList``\n",
    "\n",
    "    用户关注的行情数据代码，是一个字符串类型的数组（现阶段可以包括，股票、期货以及指数）\n",
    "    \n",
    "2. ``startDate``\n",
    "\n",
    "    回测周期开始时间，是 ``python`` 的 ``datetiem`` 类型对象。\n",
    "    \n",
    "3. ``endDate``\n",
    "\n",
    "    回测周期结束时间，是 ``python`` 的 ``datetiem`` 类型对象。\n",
    "\n",
    "4. ``dataSource``\n",
    "\n",
    "    数据源，默认值为：``DataSource.DXDataCenter``，意味着使用部门的 ``datacenter`` 数据库。\n",
    "    \n",
    "\n",
    "一个典型的  ``strategyRunner`` 调用如下形式：\n",
    "\n",
    "```python\n",
    "\n",
    "    strategyRunner(strategy=UserStrategy,\n",
    "                   symbolList=['600000.xshg', '000300.zicn', 'if1512'],\n",
    "                   startDate=dt.datetime(2012, 1, 1),\n",
    "                   endDate=dt.datetiem(2015, 11, 19))\n",
    "```"
   ]
  },
  {
   "cell_type": "markdown",
   "metadata": {},
   "source": [
    "4. ``Hello World``\n",
    "=====================\n",
    "***\n",
    "\n",
    "一个最精简的展示完整功能的例子：\n",
    "\n",
    "[*Hello World*](Hello World策略.ipynb)"
   ]
  },
  {
   "cell_type": "markdown",
   "metadata": {
    "collapsed": true
   },
   "source": [
    "5. 混合品种策略\n",
    "=======================\n",
    "***\n",
    "\n",
    "一个多品种的混合策略：\n",
    "\n",
    "[*混合品种策略*](混合品种策略.ipynb)"
   ]
  },
  {
   "cell_type": "markdown",
   "metadata": {},
   "source": [
    "6. 更多。。。 \n",
    "======================\n",
    "***\n",
    "\n",
    "* **一些方便的常用函数**\n",
    "\n",
    "    例如： ``PyFin.api`` 下的：\n",
    "\n",
    "    * ``nthWeekDay``\n",
    "        \n",
    "    * ``adjustDateByCalendar``\n",
    "        \n",
    "    * ``advanceDateByCalendar``\n",
    "        \n",
    "    * ``isBizDay``\n",
    "    \n",
    "        \n",
    "\n",
    "* **数据保存**\n",
    "\n",
    "    用户可以在 ``strategyRunner`` 中设置 ``saveFile=True`` 将表现数据保存为本地文件；\n",
    "    \n",
    "    \n",
    "* **用户自定义信息记录**\n",
    "\n",
    "    用户可以使用 ``strategy`` 的成员 ``info`` 函数记录任何想记录的信息；\n",
    "    \n",
    "    \n",
    "* **获取表现数据**\n",
    "    \n",
    "    ``strategyRunner`` 会返回所有的表现数据，格式为 ``pandas.DataFrame``；\n",
    "    \n",
    "    \n",
    "* **可以直接使用绘图工具**\n",
    "\n",
    "    基本上，如果有一个类似于价格的序列（例如某个资产的历史价格序列，或者一个组合的净值曲线），我们就可以绘制基本的表现图："
   ]
  },
  {
   "cell_type": "code",
   "execution_count": null,
   "metadata": {
    "collapsed": true
   },
   "outputs": [],
   "source": [
    "%matplotlib inline\n",
    "from DataAPI import api\n",
    "from VisualPortfolio import createPerformanceTearSheet\n",
    "from VisualPortfolio import Settings\n",
    "from VisualPortfolio import DataSource\n",
    "Settings.set_source(DataSource.DXDataCenter)"
   ]
  },
  {
   "cell_type": "code",
   "execution_count": null,
   "metadata": {
    "collapsed": true
   },
   "outputs": [],
   "source": [
    "data = api.GetEquityBarEOD('600000', '2012-01-01', '2015-10-01')"
   ]
  },
  {
   "cell_type": "code",
   "execution_count": null,
   "metadata": {
    "collapsed": false,
    "scrolled": true
   },
   "outputs": [],
   "source": [
    "res = createPerformanceTearSheet(data['closePrice'], benchmark='000300.zicn')"
   ]
  },
  {
   "cell_type": "markdown",
   "metadata": {},
   "source": [
    "7. 未来。。。\n",
    "=====================\n",
    "***\n",
    "\n",
    "* **轻量级的 ``signal`` 类型**\n",
    "\n",
    "    现在的 ``strategy`` 类型是一个比较重的概念，包含了所信号产生到发出交易指令的全部过程。当前正在开发一个轻量级的 ``signal`` 类型，可以视作是一种特殊的 ``strategy``，会分离指令产生的细节。\n",
    "    \n",
    "    \n",
    "* **基于 ``signal`` 的运算框架**\n",
    "\n",
    "    不同于 ``strategy`` 的概念， ``signal``   是一个更抽象的概念。在这一基础上，``signal``可以被组合，例如：相加、相减、回归，组合等运算。\n",
    "    \n",
    "\n",
    "* **基于 ``signal`` 的信号组合优化模型**\n",
    "\n",
    "    如果上面的框架可以设计成功，那么我们就可以提出关于 ``signal`` 如何进行组合的最优化问题。\n",
    "    \n",
    "    \n",
    "* **绘图工具的提升**\n",
    "\n",
    "    现阶段的绘图包是回测后处理流程。这样的设计对于回测时合适的，但是并不适用于实时环境（例如，paper trading或者实盘阶段）。未来的目标是使得实时绘图成为可能。这个可能需要重新设计 ``AlogTrading`` 于 ``VisualPortfolio`` 的相互关系。"
   ]
  }
 ],
 "metadata": {
  "kernelspec": {
   "display_name": "Python [Root]",
   "language": "python",
   "name": "Python [Root]"
  },
  "language_info": {
   "codemirror_mode": {
    "name": "ipython",
    "version": 3
   },
   "file_extension": ".py",
   "mimetype": "text/x-python",
   "name": "python",
   "nbconvert_exporter": "python",
   "pygments_lexer": "ipython3",
   "version": "3.5.2"
  }
 },
 "nbformat": 4,
 "nbformat_minor": 0
}
