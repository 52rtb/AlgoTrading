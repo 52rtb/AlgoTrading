{
 "cells": [
  {
   "cell_type": "markdown",
   "metadata": {},
   "source": [
    "> ### 本文档中，我们将展示在``ipython``中作图的舒适体验！\n",
    "\n",
    "> 我们将介绍如下python包的使用：\n",
    "\n",
    "> * **matplotlib**：最基础的python绘图包，大多数绘图包的基础组件，[matplotlib主页](http://matplotlib.org/)\n",
    "\n",
    "> * **seabron**：基于matplotlib开发，目标是为**数据工作者**提供更舒适、更美观和更简洁的可视化体验。[seaborn主页](http://stanford.edu/~mwaskom/software/seaborn/#)\n",
    "\n",
    "> * **bokeh**：基于web浏览器的交互式绘图工具包，可以打造动态性以及交互性兼备的图片。[bokeh主页](http://bokeh.pydata.org/en/latest/)"
   ]
  },
  {
   "cell_type": "markdown",
   "metadata": {},
   "source": [
    "0. 预备\n",
    "==========\n",
    "***"
   ]
  },
  {
   "cell_type": "code",
   "execution_count": null,
   "metadata": {
    "collapsed": false
   },
   "outputs": [],
   "source": [
    "%matplotlib notebook\n",
    "import seaborn as sns\n",
    "import matplotlib.pyplot as plt\n",
    "sns.set_style('ticks')"
   ]
  },
  {
   "cell_type": "markdown",
   "metadata": {},
   "source": [
    "1. 使用matplotlib交互绘图\n",
    "========================\n",
    "***\n",
    "\n",
    "在这个例子中，我们将step by step的在notebook环境下复制下面的，同样功能的matlab代码：\n",
    "\n",
    "```python\n",
    "\n",
    "    >> hold on\n",
    "    >> plot([1,2,3], [4,5,6])\n",
    "    >> plot([1,2,3], [7,8,9])\n",
    "    >> title('Show interactive plotting', 'FontSize', 25)\n",
    "    >> legend('first line', 'second line', 'location', 'best')\n",
    "    >> ylabel('y value', 'FontSize', 16)\n",
    "    >> xlabel('x value', 'FontSize', 16)\n",
    "    >> hold off\n",
    "    \n",
    "```\n",
    "\n",
    "绘图结果：\n",
    "\n",
    "<img src=\"img/matlab_plotting.png\">"
   ]
  },
  {
   "cell_type": "markdown",
   "metadata": {},
   "source": [
    "下面的语句中, ``plt.ion()``等价于**matlab**中的语句``hold on``："
   ]
  },
  {
   "cell_type": "code",
   "execution_count": null,
   "metadata": {
    "collapsed": false
   },
   "outputs": [],
   "source": [
    "plt.ion()\n",
    "plt.figure(figsize=(9,6))"
   ]
  },
  {
   "cell_type": "markdown",
   "metadata": {},
   "source": [
    "绘制第一条曲线："
   ]
  },
  {
   "cell_type": "code",
   "execution_count": null,
   "metadata": {
    "collapsed": false
   },
   "outputs": [],
   "source": [
    "plt.plot([1,2,3], [4,5,6], linewidth=1.0, alpha=0.5, color='b')"
   ]
  },
  {
   "cell_type": "markdown",
   "metadata": {},
   "source": [
    "绘制第二条曲线："
   ]
  },
  {
   "cell_type": "code",
   "execution_count": null,
   "metadata": {
    "collapsed": false
   },
   "outputs": [],
   "source": [
    "plt.plot([1,2,3], [7,8,9], linewidth=1.0, alpha=0.5, color='r')"
   ]
  },
  {
   "cell_type": "markdown",
   "metadata": {},
   "source": [
    "添加上标题以及图例："
   ]
  },
  {
   "cell_type": "code",
   "execution_count": null,
   "metadata": {
    "collapsed": false
   },
   "outputs": [],
   "source": [
    "plt.title('Show interactive plotting', fontsize=15)\n",
    "plt.legend(['first line', 'second line'], loc='best', fontsize=10)"
   ]
  },
  {
   "cell_type": "markdown",
   "metadata": {},
   "source": [
    "增加y坐标标题："
   ]
  },
  {
   "cell_type": "code",
   "execution_count": null,
   "metadata": {
    "collapsed": false
   },
   "outputs": [],
   "source": [
    "plt.ylabel('y value', fontsize=10)"
   ]
  },
  {
   "cell_type": "markdown",
   "metadata": {},
   "source": [
    "增加x坐标标题："
   ]
  },
  {
   "cell_type": "code",
   "execution_count": null,
   "metadata": {
    "collapsed": false
   },
   "outputs": [],
   "source": [
    "plt.xlabel('x value', fontsize=10)\n"
   ]
  },
  {
   "cell_type": "markdown",
   "metadata": {},
   "source": [
    "2. DataAPI获取数据以及绘图\n",
    "========================\n",
    "***\n",
    "\n",
    "**DataAPI**可以帮助用户方便从我们的数据库中获取数据，而不必关注数据库访问的细节："
   ]
  },
  {
   "cell_type": "code",
   "execution_count": null,
   "metadata": {
    "collapsed": false
   },
   "outputs": [],
   "source": [
    "%matplotlib inline\n",
    "from DataAPI import api\n",
    "\n",
    "df = api.GetEquityBarMin5(['600000'], startDate='2001-01-01', endDate='2015-10-22')\n",
    "df[['openPrice', 'highPrice', 'lowPrice', 'closePrice']].head()"
   ]
  },
  {
   "cell_type": "code",
   "execution_count": null,
   "metadata": {
    "collapsed": false
   },
   "outputs": [],
   "source": [
    "df['closePrice'][:10]"
   ]
  },
  {
   "cell_type": "code",
   "execution_count": null,
   "metadata": {
    "collapsed": false
   },
   "outputs": [],
   "source": [
    "df[['openPrice', 'highPrice', 'lowPrice', 'closePrice']].plot(figsize=(12,6), linewidth=1.0, alpha=0.5)"
   ]
  },
  {
   "cell_type": "markdown",
   "metadata": {},
   "source": [
    "计算收益率，并绘制历史时间序列以及分布图："
   ]
  },
  {
   "cell_type": "code",
   "execution_count": null,
   "metadata": {
    "collapsed": false
   },
   "outputs": [],
   "source": [
    "df['return'] = df['closePrice'] .pct_change()\n",
    "df['return']"
   ]
  },
  {
   "cell_type": "code",
   "execution_count": null,
   "metadata": {
    "collapsed": false
   },
   "outputs": [],
   "source": [
    "df.dropna(inplace=True)\n",
    "df['return'].plot(figsize=(12,6))"
   ]
  },
  {
   "cell_type": "code",
   "execution_count": null,
   "metadata": {
    "collapsed": false
   },
   "outputs": [],
   "source": [
    "plt.figure(figsize=(12,6))\n",
    "\n",
    "bins = sns.distplot(df['return'][(df['return']<0.05) & (df['return'] > -0.05)], color=\"g\")"
   ]
  },
  {
   "cell_type": "markdown",
   "metadata": {},
   "source": [
    "3. 使用**seaborn**绘制有吸引力的统计图\n",
    "===================================\n",
    "***\n",
    "\n",
    "本节的例子来源于：[Seaborn Gallary](http://stanford.edu/~mwaskom/software/seaborn/examples/scatterplot_matrix.html)"
   ]
  },
  {
   "cell_type": "code",
   "execution_count": null,
   "metadata": {
    "collapsed": false
   },
   "outputs": [],
   "source": [
    "df = sns.load_dataset(\"iris\")\n",
    "df.head()"
   ]
  },
  {
   "cell_type": "code",
   "execution_count": null,
   "metadata": {
    "collapsed": false
   },
   "outputs": [],
   "source": [
    "sns.pairplot(df, hue='species')"
   ]
  },
  {
   "cell_type": "markdown",
   "metadata": {},
   "source": [
    "4. 在Notebook中实时更新绘图\n",
    "===================\n",
    "***\n",
    "\n",
    "下面的例子中，我们展示在notebook中插入实时更新的图片。\n",
    "\n",
    "* 我们将使用随机数生成一组股票价格时间序列；\n",
    "* 股票价格序列标注蓝色；\n",
    "* 在每次股票价格达到新高之时，会在新高点上标上<font color='red'>空心红圈</font>。\n",
    "\n",
    "下面这段代码是整个图的骨架，多半是标题，坐标轴的设置等设计。"
   ]
  },
  {
   "cell_type": "code",
   "execution_count": null,
   "metadata": {
    "collapsed": false
   },
   "outputs": [],
   "source": [
    "import time\n",
    "import datetime as dt\n",
    "from math import exp\n",
    "from datetime import timedelta\n",
    "import numpy as np\n",
    "from bokeh.plotting import figure, output_notebook, show, Session\n",
    "\n",
    "session = Session(root_url=\"http://localhost:5006\")\n",
    "\n",
    "# prepare output to server\n",
    "output_notebook(\"Real Time Stock Price Plotting\", session=session)\n",
    "\n",
    "x = [dt.datetime(1995, 9, 1, 9, 30, 0)]\n",
    "y = [15 * exp(np.random.randn(1, 1)[0] * 0.005 + 0.005)]\n",
    "y2 = [np.nan]\n",
    "\n",
    "current_max = y[0]\n",
    "\n",
    "p = figure(plot_width=800, plot_height=500, x_axis_type=\"datetime\")\n",
    "p.line(x, y, line_join='round', name=\"ex_line\")\n",
    "p.circle(x, y2, color='red', size=18, fill_alpha=0.1, name=\"signal\")\n",
    "p.title = \"Living Plotting Test\"\n",
    "p.title_text_color = \"olive\"\n",
    "p.title_text_font = \"times\"\n",
    "p.title_text_font_style = \"italic\"\n",
    "p.xaxis.axis_label = 'Date'\n",
    "p.yaxis.axis_label = 'Price'\n",
    "show(p)\n",
    "session.publish()"
   ]
  },
  {
   "cell_type": "markdown",
   "metadata": {},
   "source": [
    "现在图还很无聊，空空如也。让我们来给它加上点动画！"
   ]
  },
  {
   "cell_type": "code",
   "execution_count": null,
   "metadata": {
    "collapsed": false
   },
   "outputs": [],
   "source": [
    "tdelta = timedelta(days=1)\n",
    "\n",
    "# create some simple animation..\n",
    "# first get our figure example data source\n",
    "renderer = p.select(dict(name=\"ex_line\"))\n",
    "ds = renderer[0].data_source\n",
    "\n",
    "renderer2 = p.select(dict(name=\"signal\"))\n",
    "ds2 = renderer2[0].data_source\n",
    "\n",
    "max_len = 5000\n",
    "\n",
    "while True:\n",
    "    # Update y data of the source object\n",
    "    ds.data[\"x\"] = np.append(ds.data[\"x\"], ds.data[\"x\"][-1] + tdelta)[-max_len:]\n",
    "    ds.data[\"y\"] = np.append(ds.data[\"y\"], ds.data[\"y\"][-1] * exp(np.random.randn(1, 1)[0] * 0.015 + 0.0002))[-max_len:]\n",
    "\n",
    "    ds2.data[\"x\"] = ds.data[\"x\"]\n",
    "    yy2 = ds2.data[\"y\"]\n",
    "    if ds.data[\"y\"][-1] > current_max:\n",
    "        current_max = ds.data[\"y\"][-1]\n",
    "        new_value = current_max\n",
    "    else:\n",
    "        new_value = np.nan\n",
    "\n",
    "    ds2.data[\"y\"] = np.append(yy2, new_value)[-max_len:]\n",
    "\n",
    "    # store the updated source on the server\n",
    "    session.store_objects(ds)\n",
    "    session.store_objects(ds2)\n",
    "    time.sleep(0.01)"
   ]
  }
 ],
 "metadata": {
  "kernelspec": {
   "display_name": "Python 2",
   "language": "python",
   "name": "python2"
  },
  "language_info": {
   "codemirror_mode": {
    "name": "ipython",
    "version": 2
   },
   "file_extension": ".py",
   "mimetype": "text/x-python",
   "name": "python",
   "nbconvert_exporter": "python",
   "pygments_lexer": "ipython2",
   "version": "2.7.10"
  }
 },
 "nbformat": 4,
 "nbformat_minor": 0
}
