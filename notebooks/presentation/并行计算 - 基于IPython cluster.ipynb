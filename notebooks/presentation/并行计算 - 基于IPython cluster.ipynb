{
 "cells": [
  {
   "cell_type": "markdown",
   "metadata": {},
   "source": [
    "> ### 本文档介绍如何使用ipython进行并行计算\n",
    "\n",
    "> 更详细的介绍，请见``ipyparallel``官方文档：https://ipyparallel.readthedocs.org/en/latest/"
   ]
  },
  {
   "cell_type": "markdown",
   "metadata": {},
   "source": [
    "1. 配置\n",
    "================\n",
    "***"
   ]
  },
  {
   "cell_type": "markdown",
   "metadata": {},
   "source": [
    "一般地，有两种方法启动ipython集群\n",
    "\n",
    "### 1.1 基于命令行\n",
    "\n",
    "    ipcluster start -n 8\n",
    "    \n",
    "上面的命令会在本地的机器上运行8个计算节点（engine）。"
   ]
  },
  {
   "cell_type": "markdown",
   "metadata": {},
   "source": [
    "### 1.2 通过notebook配置\n",
    "\n",
    "如果你使用ipython notebook，并且只是使用本机的话，那可以直接在web端进行配置：\n",
    "\n",
    "<img src=\"img/jupyter_engin_config.png\">\n",
    "\n",
    "上面的页面，同样的，我们启动了8个计算节点。"
   ]
  },
  {
   "cell_type": "code",
   "execution_count": null,
   "metadata": {
    "collapsed": false
   },
   "outputs": [],
   "source": [
    "from ipyparallel import Client\n",
    "rc = Client()\n",
    "\n",
    "%px from ipyparallel import bind_kernel; bind_kernel()\n",
    "%px %connect_info"
   ]
  },
  {
   "cell_type": "markdown",
   "metadata": {},
   "source": [
    "2. 模拟函数\n",
    "===============\n",
    "***\n",
    "\n",
    "我们这里将写一个函数，这个函数的基本特点：\n",
    "\n",
    "* 具有一组待输入的参数；\n",
    "* 函数单次运行比较消耗时间。\n",
    "\n",
    "这样的函数可能代表了：\n",
    "\n",
    "* 某个复杂模型的calibration；\n",
    "* 或者单个策略的数年的回测；\n",
    "* 一个计算量巨大的函数调用。\n",
    "\n",
    "### 2.1 ``bsm_monte_carlo``\n",
    "\n",
    "这里我们定义了一个基于Black - Scholes - Merton模型的Monte Carlo模拟函数，参数：\n",
    "\n",
    "* ``s0``：当前价格\n",
    "* ``strike``：行权价\n",
    "* ``t``：到期时间\n",
    "* ``r``：无风险利率\n",
    "* ``sigma``：波动率\n",
    "* ``num_paths``：Monte Carlo模拟次数"
   ]
  },
  {
   "cell_type": "code",
   "execution_count": null,
   "metadata": {
    "collapsed": true
   },
   "outputs": [],
   "source": [
    "import math\n",
    "import numpy\n",
    "\n",
    "def bsm_monte_carlo(s0, strike, t, r, sigma, num_paths):\n",
    "    z = numpy.random.randn(num_paths)\n",
    "    paths = s0 * numpy.exp((r - 0.5 * sigma ** 2) * t + sigma * math.sqrt(t) * z)\n",
    "    pay_off =  numpy.maximum(paths - strike, 0.0)\n",
    "    c0 = math.exp(-r * t) * sum(pay_off) / num_paths\n",
    "    return c0"
   ]
  },
  {
   "cell_type": "code",
   "execution_count": null,
   "metadata": {
    "collapsed": false
   },
   "outputs": [],
   "source": [
    "print(\"Sample Price: %.4f\" % bsm_monte_carlo(100., 105., 1., 0.05, 0.2, 50000))"
   ]
  },
  {
   "cell_type": "markdown",
   "metadata": {},
   "source": [
    "下面的章节中，我们将以这个函数为基础，测试在ipython下并行计算的功效！"
   ]
  },
  {
   "cell_type": "markdown",
   "metadata": {},
   "source": [
    "3. 串行 v.s. 并行\n",
    "====================\n",
    "***\n",
    "\n",
    "对于Monte Carlo这类型的算法，经常要做的一件事就是测试算法的收敛性。这样的一份工作，无外乎要做以下的事：\n",
    "\n",
    "* 多次运行上面的``bsm_monte_carlo``函数；\n",
    "* 每次运行使用相同的``s0``, ``strike``, ``t``, ``r``以及``sigma``。但是``num_paths``逐次增加；\n",
    "* 分析或者从图形直观分析收敛是否符合预期。\n",
    "\n",
    "我们使用如下的``num_paths``的序列\n",
    "\n",
    "```python\n",
    "paths_set = range(5000, 500000, 5000)\n",
    "```"
   ]
  },
  {
   "cell_type": "code",
   "execution_count": null,
   "metadata": {
    "collapsed": true
   },
   "outputs": [],
   "source": [
    "paths_set = range(5000, 500000, 5000)\n",
    "from PyFin.Utilities import print_timing\n",
    "from functools import partial"
   ]
  },
  {
   "cell_type": "markdown",
   "metadata": {},
   "source": [
    "### 3.1 串行的做法\n",
    "\n",
    "我们简单的一个接一个的，根据不同的参数，运行``bsm_monte_carlo``函数："
   ]
  },
  {
   "cell_type": "code",
   "execution_count": null,
   "metadata": {
    "collapsed": false
   },
   "outputs": [],
   "source": [
    "@print_timing\n",
    "def serial_run(paths_set):\n",
    "    s0 = 100.\n",
    "    strike = 105.\n",
    "    t = 1.0\n",
    "    r = 0.05\n",
    "    sigma = 0.2\n",
    "    \n",
    "    part_func = partial(bsm_monte_carlo, s0, strike, t, r, sigma)\n",
    "    return list(map(part_func, paths_set))\n",
    "\n",
    "result = serial_run(paths_set)\n",
    "print(\"Took: %.5s seconds\" % result[0])"
   ]
  },
  {
   "cell_type": "markdown",
   "metadata": {},
   "source": [
    "### 3.2 并行的做法"
   ]
  },
  {
   "cell_type": "code",
   "execution_count": null,
   "metadata": {
    "collapsed": true
   },
   "outputs": [],
   "source": [
    "import ipyparallel as ipp\n",
    "from ipyparallel import require\n",
    "rc = ipp.Client()\n",
    "rc[:].push(dict(bsm_monte_carlo=bsm_monte_carlo))\n",
    "lview = rc.load_balanced_view()\n",
    "lview.block = True"
   ]
  },
  {
   "cell_type": "markdown",
   "metadata": {},
   "source": [
    "使用``lview.parallel``decorator使得原先的函数可以运行于并行环境"
   ]
  },
  {
   "cell_type": "code",
   "execution_count": null,
   "metadata": {
    "collapsed": true
   },
   "outputs": [],
   "source": [
    "@lview.parallel()\n",
    "@require(\"numpy\", \"math\")\n",
    "def bsm_monte_carlo_binded(num_paths):\n",
    "    s0 = 100.\n",
    "    strike = 105.\n",
    "    t = 1.0\n",
    "    r = 0.05\n",
    "    sigma = 0.2\n",
    "    return bsm_monte_carlo(s0, strike, t, r, sigma, num_paths)"
   ]
  },
  {
   "cell_type": "code",
   "execution_count": null,
   "metadata": {
    "collapsed": false
   },
   "outputs": [],
   "source": [
    "@print_timing\n",
    "def parallel_run(paths_set):\n",
    "    return bsm_monte_carlo_binded.map(paths_set)\n",
    "\n",
    "result = parallel_run(paths_set)\n",
    "print(\"Took: %.5s seconds\" % result[0])"
   ]
  },
  {
   "cell_type": "markdown",
   "metadata": {},
   "source": [
    "上面的例子，在8个计算节点的情况下，效能大概提高了3倍。"
   ]
  },
  {
   "cell_type": "markdown",
   "metadata": {},
   "source": [
    "4. 并行运算的潜力\n",
    "==================\n",
    "***\n",
    "\n",
    "并行本身是有一定的开销的，所以当本身计算量不是很大的时候，并行化本身的损耗可能大于计算函数消耗cpu的时间。在上面的例子中，如果``num_paths``选的不大的时候，``parallel_run``版本实际上要比``serial_run``版本更慢。\n",
    "\n",
    "由此知道，大部分的时候，我们需要对并行化进行评估。主要回答两个问题：\n",
    "\n",
    "* 在多大的运算规模之上，并行计算是有意义的？\n",
    "* 并行化之后，我们可以获得的最大性能提升是多少倍？\n",
    "\n",
    "下面的代码，基于这个玩具问题，对这两个问题进行了回答。最后我们以一张图，结束所有的讨论。"
   ]
  },
  {
   "cell_type": "code",
   "execution_count": null,
   "metadata": {
    "collapsed": false
   },
   "outputs": [],
   "source": [
    "max_nums_set = range(50000, 600000, 25000)\n",
    "\n",
    "serial_result = [serial_run(range(5000, max_nums, 5000))[0] for max_nums in max_nums_set]\n",
    "parallel_result = [parallel_run(range(5000, max_nums, 5000))[0] for max_nums in max_nums_set]\n",
    "factors = numpy.array(parallel_result) / numpy.array(serial_result)"
   ]
  },
  {
   "cell_type": "code",
   "execution_count": null,
   "metadata": {
    "collapsed": false
   },
   "outputs": [],
   "source": [
    "#%matplotlib inline\n",
    "from bokeh.plotting import figure, show, output_notebook\n",
    "from bokeh.models import HoverTool\n",
    "from bokeh.models.formatters import NumeralTickFormatter\n",
    "\n",
    "output_notebook()\n",
    "\n",
    "TOOLS = ['box_zoom,box_select,resize,reset',HoverTool(tooltips=[\n",
    "            (\"Number of paths\", \"$x\"),\n",
    "            (\"Time factor\", \"$y\")],\n",
    "            names=['scatter1', 'scatter2'])]\n",
    "\n",
    "p = figure(title=\"Parallel monte carlo simulation on Cluster: with 8 engines\", \n",
    "           plot_width=900, plot_height=600, tools=TOOLS)\n",
    "\n",
    "p.line(max_nums_set, factors, legend=\"Parallel\", line_color='green', line_dash=[5, 5],\n",
    "       line_width=2.5, alpha=0.5)\n",
    "p.line(max_nums_set, [1.] * len(factors), legend=\"Serial\", line_color='red', \n",
    "       line_dash=[5, 5], line_width=2.5, alpha=0.5)\n",
    "p.square(max_nums_set, factors, legend=\"Parallel\", name='scatter1', color='green', size=6, alpha=0.5)\n",
    "p.circle(max_nums_set, [1.] * len(factors), legend=\"Serial\", name='scatter2', color='red', size=6, alpha=0.5)\n",
    "\n",
    "p.xaxis.axis_label = 'number of paths'\n",
    "p.yaxis.axis_label = 'Time factor (smaller is better)'\n",
    "p.xaxis.formatter = NumeralTickFormatter(format='0 a')\n",
    "p.yaxis.formatter = NumeralTickFormatter(format='0.00')\n",
    "\n",
    "p.title_text_font = \"times\"\n",
    "p.title_text_font_style = \"italic\"\n",
    "\n",
    "p.legend.glyph_width = 100\n",
    "p.legend.legend_spacing = 10\n",
    "\n",
    "show(p)"
   ]
  },
  {
   "cell_type": "markdown",
   "metadata": {},
   "source": [
    "### 4.1 结论\n",
    "\n",
    "* 基本上在``num_paths``在10^5以上时，对这个问题，并行计算已经有意义了；\n",
    "\n",
    "* 随着问题运算规模的上升，并行化的效率越来越高；\n",
    "\n",
    "* 可以获取的最大性能提升大概在4倍左右。显著低于计算节点的数量（8）。这个是可以预见的，因为本人的计算机只有4个物理核心。"
   ]
  }
 ],
 "metadata": {
  "kernelspec": {
   "display_name": "Python 2",
   "language": "python",
   "name": "python2"
  },
  "language_info": {
   "codemirror_mode": {
    "name": "ipython",
    "version": 2
   },
   "file_extension": ".py",
   "mimetype": "text/x-python",
   "name": "python",
   "nbconvert_exporter": "python",
   "pygments_lexer": "ipython2",
   "version": "2.7.10"
  }
 },
 "nbformat": 4,
 "nbformat_minor": 0
}
