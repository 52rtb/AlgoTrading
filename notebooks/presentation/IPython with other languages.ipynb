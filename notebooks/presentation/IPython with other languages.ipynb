{
 "cells": [
  {
   "cell_type": "markdown",
   "metadata": {},
   "source": [
    "1. Talking with ``Matlab``\n",
    "===============\n",
    "***"
   ]
  },
  {
   "cell_type": "code",
   "execution_count": 1,
   "metadata": {
    "collapsed": false
   },
   "outputs": [
    {
     "name": "stdout",
     "output_type": "stream",
     "text": [
      "Starting MATLAB on ZMQ socket tcp://127.0.0.1:48727\n",
      "Send 'exit' command to kill the server\n",
      ".......MATLAB started and connected!\n"
     ]
    },
    {
     "name": "stderr",
     "output_type": "stream",
     "text": [
      "d:\\Miniconda\\lib\\site-packages\\IPython\\nbformat.py:13: ShimWarning: The `IPython.nbformat` package has been deprecated. You should import from nbformat instead.\n",
      "  \"You should import from nbformat instead.\", ShimWarning)\n"
     ]
    }
   ],
   "source": [
    "%load_ext pymatbridge\n",
    "load_ext pymatbridge\n"
   ]
  },
  {
   "cell_type": "code",
   "execution_count": 2,
   "metadata": {
    "collapsed": true
   },
   "outputs": [],
   "source": [
    "a = [1,2,3]"
   ]
  },
  {
   "cell_type": "code",
   "execution_count": 3,
   "metadata": {
    "collapsed": false
   },
   "outputs": [],
   "source": [
    "%%matlab -i a -o b\n",
    "b = a + 3;"
   ]
  },
  {
   "cell_type": "code",
   "execution_count": 4,
   "metadata": {
    "collapsed": false
   },
   "outputs": [
    {
     "data": {
      "text/plain": [
       "array([[ 4.,  5.,  6.]])"
      ]
     },
     "execution_count": 4,
     "metadata": {},
     "output_type": "execute_result"
    }
   ],
   "source": [
    "b"
   ]
  },
  {
   "cell_type": "code",
   "execution_count": 5,
   "metadata": {
    "collapsed": false
   },
   "outputs": [
    {
     "data": {
      "image/png": "[encoded data removed]"
     },
     "metadata": {},
     "output_type": "display_data"
    }
   ],
   "source": [
    "%%matlab --size 800,400 -o t\n",
    "t = linspace(0,6*pi,100);\n",
    "plot(sin(t))\n",
    "grid on\n",
    "hold on\n",
    "plot(cos(t), 'r')\n",
    "hold off"
   ]
  },
  {
   "cell_type": "code",
   "execution_count": 6,
   "metadata": {
    "collapsed": false
   },
   "outputs": [
    {
     "data": {
      "text/plain": [
       "array([[ 0.        ,  0.19039955,  0.38079911,  0.57119866,  0.76159822,\n",
       "         0.95199777,  1.14239733,  1.33279688,  1.52319644,  1.71359599,\n",
       "         1.90399555,  2.0943951 ,  2.28479466,  2.47519421,  2.66559377,\n",
       "         2.85599332,  3.04639288,  3.23679243,  3.42719199,  3.61759154,\n",
       "         3.8079911 ,  3.99839065,  4.1887902 ,  4.37918976,  4.56958931,\n",
       "         4.75998887,  4.95038842,  5.14078798,  5.33118753,  5.52158709,\n",
       "         5.71198664,  5.9023862 ,  6.09278575,  6.28318531,  6.47358486,\n",
       "         6.66398442,  6.85438397,  7.04478353,  7.23518308,  7.42558264,\n",
       "         7.61598219,  7.80638175,  7.9967813 ,  8.18718085,  8.37758041,\n",
       "         8.56797996,  8.75837952,  8.94877907,  9.13917863,  9.32957818]])"
      ]
     },
     "execution_count": 6,
     "metadata": {},
     "output_type": "execute_result"
    }
   ],
   "source": [
    "t[:, :50]"
   ]
  },
  {
   "cell_type": "markdown",
   "metadata": {},
   "source": [
    "2. 使用 ``C/C++`` 加速\n",
    "================\n",
    "***"
   ]
  },
  {
   "cell_type": "markdown",
   "metadata": {},
   "source": [
    "2.1 一个玩具例子\n",
    "------------"
   ]
  },
  {
   "cell_type": "code",
   "execution_count": 7,
   "metadata": {
    "collapsed": true
   },
   "outputs": [],
   "source": [
    "def fib(n):\n",
    "    \"\"\"calculate the Fibonacci series up to n.\"\"\"\n",
    "    a, b = 0, 1\n",
    "    while b < n:\n",
    "        a, b = b, a + b\n",
    "    return b"
   ]
  },
  {
   "cell_type": "code",
   "execution_count": 8,
   "metadata": {
    "collapsed": false
   },
   "outputs": [
    {
     "name": "stdout",
     "output_type": "stream",
     "text": [
      "1000000 loops, best of 3: 1.56 µs per loop\n"
     ]
    }
   ],
   "source": [
    "%timeit fib(50000000)"
   ]
  },
  {
   "cell_type": "markdown",
   "metadata": {},
   "source": [
    "2.2 使用 ``cython``\n",
    "-------------------"
   ]
  },
  {
   "cell_type": "code",
   "execution_count": 9,
   "metadata": {
    "collapsed": false
   },
   "outputs": [],
   "source": [
    "%load_ext cython"
   ]
  },
  {
   "cell_type": "code",
   "execution_count": 10,
   "metadata": {
    "collapsed": false
   },
   "outputs": [],
   "source": [
    "%%cython\n",
    "\n",
    "def fib_cython(int n):\n",
    "    cdef int a = 0\n",
    "    cdef int b = 1\n",
    "    while b < n:\n",
    "        a, b = b, a + b\n",
    "    return  b"
   ]
  },
  {
   "cell_type": "code",
   "execution_count": 12,
   "metadata": {
    "collapsed": false
   },
   "outputs": [
    {
     "name": "stdout",
     "output_type": "stream",
     "text": [
      "The slowest run took 28.67 times longer than the fastest. This could mean that an intermediate result is being cached \n",
      "10000000 loops, best of 3: 49.7 ns per loop\n"
     ]
    }
   ],
   "source": [
    "%timeit fib_cython(50000000)"
   ]
  },
  {
   "cell_type": "markdown",
   "metadata": {},
   "source": [
    "2.3 使用 ``numba``\n",
    "--------------------"
   ]
  },
  {
   "cell_type": "code",
   "execution_count": 13,
   "metadata": {
    "collapsed": true
   },
   "outputs": [],
   "source": [
    "from numba import jit"
   ]
  },
  {
   "cell_type": "code",
   "execution_count": 14,
   "metadata": {
    "collapsed": false
   },
   "outputs": [],
   "source": [
    "fib_numba = jit(fib)"
   ]
  },
  {
   "cell_type": "code",
   "execution_count": 15,
   "metadata": {
    "collapsed": false
   },
   "outputs": [
    {
     "name": "stdout",
     "output_type": "stream",
     "text": [
      "The slowest run took 109559.54 times longer than the fastest. This could mean that an intermediate result is being cached \n",
      "10000000 loops, best of 3: 191 ns per loop\n"
     ]
    }
   ],
   "source": [
    "%timeit fib_numba(50000000)"
   ]
  },
  {
   "cell_type": "markdown",
   "metadata": {},
   "source": [
    "3. 调用已有的dll库的函数\n",
    "----------------------------"
   ]
  },
  {
   "cell_type": "markdown",
   "metadata": {},
   "source": [
    "假设我们有一个已经编译好的dll库 ``cdll.dll``库，由如下的``c++``代码生成:"
   ]
  },
  {
   "cell_type": "markdown",
   "metadata": {},
   "source": [
    "```c\n",
    "// cdll.hpp\n",
    "\n",
    "extern \"C\" __declspec(dllexport) int square_func(int magic);\n",
    "\n",
    "// cdll.cpp\n",
    "\n",
    "#include \"cdll.hpp\"\n",
    "\n",
    "int square_func(int magic) { return magic * magic;}\n",
    "```"
   ]
  },
  {
   "cell_type": "code",
   "execution_count": 16,
   "metadata": {
    "collapsed": false
   },
   "outputs": [],
   "source": [
    "from ctypes import CDLL"
   ]
  },
  {
   "cell_type": "code",
   "execution_count": 17,
   "metadata": {
    "collapsed": false
   },
   "outputs": [],
   "source": [
    "libc = CDLL('dll/cdll')"
   ]
  },
  {
   "cell_type": "code",
   "execution_count": 18,
   "metadata": {
    "collapsed": false
   },
   "outputs": [
    {
     "data": {
      "text/plain": [
       "4"
      ]
     },
     "execution_count": 18,
     "metadata": {},
     "output_type": "execute_result"
    }
   ],
   "source": [
    "libc.square_func(2)"
   ]
  }
 ],
 "metadata": {
  "kernelspec": {
   "display_name": "Python 2",
   "language": "python",
   "name": "python2"
  },
  "language_info": {
   "codemirror_mode": {
    "name": "ipython",
    "version": 2
   },
   "file_extension": ".py",
   "mimetype": "text/x-python",
   "name": "python",
   "nbconvert_exporter": "python",
   "pygments_lexer": "ipython2",
   "version": "2.7.10"
  }
 },
 "nbformat": 4,
 "nbformat_minor": 0
}
