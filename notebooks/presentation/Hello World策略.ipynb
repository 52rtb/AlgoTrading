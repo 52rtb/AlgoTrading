{
 "cells": [
  {
   "cell_type": "code",
   "execution_count": null,
   "metadata": {
    "collapsed": false
   },
   "outputs": [],
   "source": [
    "%matplotlib inline\n",
    "\n",
    "import datetime as dt\n",
    "from AlgoTrading.api import Strategy\n",
    "from AlgoTrading.api import strategyRunner"
   ]
  },
  {
   "cell_type": "code",
   "execution_count": null,
   "metadata": {
    "collapsed": false
   },
   "outputs": [],
   "source": [
    "class UserStrategy(Strategy):\n",
    "    \n",
    "    def handle_data(self):\n",
    "        \n",
    "        for s in self.tradableAssets:\n",
    "            self.order(s, 1, 100)\n",
    "            \n",
    "res = strategyRunner(userStrategy=UserStrategy, \n",
    "                     symbolList=['600000.xshg'], \n",
    "                     startDate=dt.datetime(2012, 1, 1), \n",
    "                     endDate=dt.datetime(2015, 11, 19),\n",
    "                     benchmark='000300.zicn')"
   ]
  },
  {
   "cell_type": "code",
   "execution_count": null,
   "metadata": {
    "collapsed": true
   },
   "outputs": [],
   "source": []
  }
 ],
 "metadata": {
  "kernelspec": {
   "display_name": "Python [Root]",
   "language": "python",
   "name": "Python [Root]"
  },
  "language_info": {
   "codemirror_mode": {
    "name": "ipython",
    "version": 3
   },
   "file_extension": ".py",
   "mimetype": "text/x-python",
   "name": "python",
   "nbconvert_exporter": "python",
   "pygments_lexer": "ipython3",
   "version": "3.5.2"
  }
 },
 "nbformat": 4,
 "nbformat_minor": 0
}
