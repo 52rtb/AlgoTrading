{
 "cells": [
  {
   "cell_type": "markdown",
   "metadata": {
    "slideshow": {
     "slide_type": "slide"
    }
   },
   "source": [
    "<font color=\"red\">Python</font> 大法好！\n",
    "=====================\n",
    "***\n",
    "\n",
    "> *哪里不会，``import``哪里！*"
   ]
  },
  {
   "cell_type": "markdown",
   "metadata": {
    "collapsed": true,
    "slideshow": {
     "slide_type": "slide"
    }
   },
   "source": [
    "<div style=\"float: left; width: 50%;\"> \n",
    "<a href=\"https://www.python.org/\">\n",
    "<img src=\"img/python-logo.png\">\n",
    "</a>\n",
    "</div>\n",
    "\n",
    "<div style=\"float: right; width: 50%;\"> \n",
    "<a href=\"http://ipython.org/\">\n",
    "<img src=\"img/IPy_header.png\">\n",
    "</a>\n",
    "</div>\n",
    "\n",
    "\n",
    "<div style=\"float: right; width: 50%;\"> \n",
    "<a href=\"http://www.numpy.org//\">\n",
    "<img src=\"img/numpy_logo.png\">\n",
    "</a>\n",
    "</div>\n",
    "\n",
    "<div style=\"float: left; width: 50%;\"> \n",
    "<a href=\"http://pandas.pydata.org/\">\n",
    "<img src=\"img/pandas_logo.png\">\n",
    "</a>\n",
    "</div>\n",
    "\n",
    "<div style=\"float: right; width: 50%;\"> \n",
    "<a href=\"http://www.scipy.org/\">\n",
    "<img src=\"img/scipy_logo.png\">\n",
    "</a>\n",
    "</div>\n",
    "\n",
    "<div style=\"float: left; width: 50%;\"> \n",
    "<a href=\"http://jupyter.org/\">\n",
    "<img src=\"img/jupyter_logo.jpg\">\n",
    "</a>\n",
    "</div>\n",
    "\n",
    "<div style=\"float: right; width: 50%;\"> \n",
    "<a href=\"https://www.continuum.io\">\n",
    "<img src=\"img/anaconda_logo.png\">\n",
    "</a>\n",
    "</div>"
   ]
  },
  {
   "cell_type": "markdown",
   "metadata": {
    "slideshow": {
     "slide_type": "slide"
    }
   },
   "source": [
    "``Python``有啥？\n",
    "==========\n",
    "***"
   ]
  },
  {
   "cell_type": "markdown",
   "metadata": {
    "slideshow": {
     "slide_type": "fragment"
    }
   },
   "source": [
    "* **``Python``**\n",
    "\n",
    "    * /ˈpaɪθən/ 或者 /ˈpaɪθɑːn/；\n",
    "\n",
    "    * 诞生于1990年前后，作者Guido van Rossum；\n",
    "    \n",
    "    * 语法简单易懂:\n",
    "        ```python\n",
    "            print('Hello world')\n",
    "        ```\n",
    "        \n",
    "    * 活跃的社区以及第三方包：[PyPI](https://pypi.python.org/pypi)"
   ]
  },
  {
   "cell_type": "markdown",
   "metadata": {
    "slideshow": {
     "slide_type": "fragment"
    }
   },
   "source": [
    "* **``Jupyter``**\n",
    "\n",
    "    * 致力于打造语言中性的研究环境；\n",
    "    \n",
    "    * 包括``qtconsole``以及``notebook``；"
   ]
  },
  {
   "cell_type": "markdown",
   "metadata": {
    "slideshow": {
     "slide_type": "fragment"
    }
   },
   "source": [
    "* **``IPython``**\n",
    "\n",
    "    * 交互式的``Python``编辑环境；\n",
    "    \n",
    "    * 强化了如语法高亮，自动补全的功能；\n",
    "    \n",
    "    * 结合``Jupyter``。"
   ]
  },
  {
   "cell_type": "markdown",
   "metadata": {
    "slideshow": {
     "slide_type": "fragment"
    }
   },
   "source": [
    "* **``numpy，scipy，pandas以及....``**"
   ]
  },
  {
   "cell_type": "markdown",
   "metadata": {
    "slideshow": {
     "slide_type": "slide"
    }
   },
   "source": [
    "``Python``用啥？\n",
    "==========\n",
    "***"
   ]
  },
  {
   "cell_type": "markdown",
   "metadata": {
    "slideshow": {
     "slide_type": "slide"
    }
   },
   "source": [
    "1. Plotting in IPython\n",
    "----------------------\n",
    "***\n",
    "\n",
    "* **matplotlib**：最基础绘图包\n",
    "\n",
    "* **seaborn**：专注于简化以及美化\n",
    "\n",
    "* **bokeh**：web、交互\n",
    "\n",
    "\n",
    "[*IPython中绘图 - 使用matplotlib、seaborn以及bokeh*](IPython中绘图 - 使用matplotlib、seaborn以及bokeh.ipynb)"
   ]
  },
  {
   "cell_type": "markdown",
   "metadata": {
    "slideshow": {
     "slide_type": "slide"
    }
   },
   "source": [
    "2. Parallel in IPython\n",
    "-------------------------\n",
    "***\n",
    "\n",
    "* **ipyparallel**：直接和IPython notebook集成；\n",
    "\n",
    "* 可以跨机配置集群\n",
    "\n",
    "\n",
    "[*并行计算 - 基于IPython cluster*](并行计算 - 基于IPython cluster.ipynb)"
   ]
  },
  {
   "cell_type": "markdown",
   "metadata": {
    "collapsed": true,
    "slideshow": {
     "slide_type": "slide"
    }
   },
   "source": [
    "3. Other languages in IPython\n",
    "----------------------------------\n",
    "***\n",
    "\n",
    "* **pymatbridge**：在``python``中运行``matlab``;\n",
    "\n",
    "* **cython**：使用c/c++写python扩展；\n",
    "\n",
    "* **numba**：另一个直接使用``jit``技术的python代码加速方案；\n",
    "\n",
    "* **ctypes**：调用已有的c库。\n",
    "\n",
    "\n",
    "[*IPython with other languages*](IPython with other languages.ipynb)"
   ]
  },
  {
   "cell_type": "markdown",
   "metadata": {
    "slideshow": {
     "slide_type": "slide"
    }
   },
   "source": [
    "4. Quant Trading in IPython\n",
    "----------------------------\n",
    "***\n",
    "\n",
    "现阶段，项目分为两个组成部分：**Finance-Python** 以及 **AlgoTrading**\n",
    "\n",
    "\n",
    "* **Finance-Python**：主要的计算工具，例如指标类函数；\n",
    "\n",
    "\n",
    "* **AlgoTrading**：主要的回测逻辑；\n",
    "\n",
    "\n",
    "[*量化回测-IPython*](量化回测 - IPython.ipynb)"
   ]
  },
  {
   "cell_type": "markdown",
   "metadata": {
    "slideshow": {
     "slide_type": "slide"
    }
   },
   "source": [
    "<font color=\"red\">谢谢收看</font>\n",
    "==================\n",
    "***\n",
    "\n",
    "*See you next time!*"
   ]
  }
 ],
 "metadata": {
  "celltoolbar": "Slideshow",
  "kernelspec": {
   "display_name": "Python 2",
   "language": "python",
   "name": "python2"
  },
  "language_info": {
   "codemirror_mode": {
    "name": "ipython",
    "version": 2
   },
   "file_extension": ".py",
   "mimetype": "text/x-python",
   "name": "python",
   "nbconvert_exporter": "python",
   "pygments_lexer": "ipython2",
   "version": "2.7.11"
  }
 },
 "nbformat": 4,
 "nbformat_minor": 0
}
