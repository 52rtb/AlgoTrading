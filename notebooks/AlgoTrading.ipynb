{
 "cells": [
  {
   "cell_type": "markdown",
   "metadata": {},
   "source": [
    "AlgoTrading回测工具使用\n",
    "==============\n",
    "***"
   ]
  },
  {
   "cell_type": "markdown",
   "metadata": {},
   "source": [
    "1. 策略描述\n",
    "------------------\n",
    "***"
   ]
  },
  {
   "cell_type": "markdown",
   "metadata": {},
   "source": [
    "定义的策略需要继承自``strategy``基类，并且实现两个成员方法：\n",
    "\n",
    "* ``__init__``，*策略初始化*\n",
    "* ``handle_data``，*每次新的市场数据到来时运行*"
   ]
  },
  {
   "cell_type": "code",
   "execution_count": null,
   "metadata": {
    "collapsed": false
   },
   "outputs": [],
   "source": [
    "%matplotlib inline\n",
    "import datetime as dt\n",
    "from AlgoTrading.Strategy.Strategy import Strategy\n",
    "from AlgoTrading.Backtest import strategyRunner\n",
    "from AlgoTrading.Backtest import DataSource\n",
    "from PyFin.API import MA\n",
    "from PyFin.API import HIST"
   ]
  },
  {
   "cell_type": "markdown",
   "metadata": {},
   "source": [
    "策略信号：\n",
    "\n",
    "* ``HIST(1, 'close')``：最近的1条bar的收盘价数据；\n",
    "* ``MA(10, 'close')``：过去10条bar的收盘价的均线；\n",
    "* ``MA(30, 'close')``：过去30条bar的收盘价均线；\n",
    "* 当``MA(10, 'close')``高于``MA(30, 'close')``时，并且当前收盘价处于高位，买入；\n",
    "* 当``MA(10, 'close')``低于``MA(30, 'close')``时，并且当前收盘价处于低位，卖出。"
   ]
  },
  {
   "cell_type": "code",
   "execution_count": null,
   "metadata": {
    "collapsed": false
   },
   "outputs": [],
   "source": [
    "class MovingAverageCrossStrategy(Strategy):\n",
    "    def __init__(self):\n",
    "        self.short_sma = MA(10, 'close')\n",
    "        self.long_sma = MA(30, 'close')\n",
    "        self.close = HIST(1, 'close')\n",
    "\n",
    "    def handle_data(self):\n",
    "        for s in self.universe:\n",
    "            if self.close[s][0] > self.short_sma[s] \\\n",
    "            and self.short_sma[s] > self.long_sma[s] \\\n",
    "            and self.secPos[s] == 0:\n",
    "                self.order(s, 1, quantity=1000)\n",
    "            elif self.close[s][0] < self.short_sma[s] \\\n",
    "            and self.short_sma[s] < self.long_sma[s] \\\n",
    "            and self.secPos[s] != 0:\n",
    "                self.order(s, -1, quantity=1000)"
   ]
  },
  {
   "cell_type": "markdown",
   "metadata": {},
   "source": [
    "2. 策略运行设置\n",
    "------------------\n",
    "***"
   ]
  },
  {
   "cell_type": "markdown",
   "metadata": {},
   "source": [
    "需要设置策略运行的基本参数:\n",
    "\n",
    "* ``universe``: *证券池*\n",
    "* ``initialCapital``：*初始资金*\n",
    "* ``startDate``：*回测开始日期*\n",
    "* ``endDate``：*回测结束日期*\n",
    "* ``dataSource``：*数据源*\n",
    "* ``freq``：回测时间频率（分钟）"
   ]
  },
  {
   "cell_type": "code",
   "execution_count": null,
   "metadata": {
    "collapsed": true
   },
   "outputs": [],
   "source": [
    "def run_example():\n",
    "    universe = ['000001.XSHE', '000002.XSHE', '000004.XSHE', '000005.XSHE', '000006.XSHE', '000007.XSHE', '000008.XSHE']\n",
    "    initialCapital = 100000.0\n",
    "    startDate = dt.datetime(2009, 1, 1)\n",
    "    endDate = dt.datetime(2015, 6, 8)\n",
    "\n",
    "    strategyRunner(userStrategy=MovingAverageCrossStrategy,\n",
    "                   initialCapital=initialCapital,\n",
    "                   symbolList=universe,\n",
    "                   startDate=startDate,\n",
    "                   endDate=endDate,\n",
    "                   dataSource=DataSource.DataYes,\n",
    "                   token=\"2bfc4b3b06efa5d8bba2ab9ef83b5d61f1c3887834de729b60eec9f13e1d4df8\",\n",
    "                   freq=5,\n",
    "                   saveFile=True)"
   ]
  },
  {
   "cell_type": "markdown",
   "metadata": {},
   "source": [
    "3. 策略运行并输出\n",
    "----------------\n",
    "***\n",
    "\n",
    "策略运行之后会在当前页面下做两件事：\n",
    "\n",
    "* *输出策略的整体表现至图表，并在当前页面下显示*\n",
    "* *输出策略表现的具体数据至excel表格，默认为当前目录下的* ```performance.xlsx```"
   ]
  },
  {
   "cell_type": "code",
   "execution_count": null,
   "metadata": {
    "collapsed": false
   },
   "outputs": [],
   "source": [
    "run_example()"
   ]
  },
  {
   "cell_type": "markdown",
   "metadata": {},
   "source": [
    "4. 获取表现的表格数据\n",
    "----------------------\n",
    "***"
   ]
  },
  {
   "cell_type": "code",
   "execution_count": null,
   "metadata": {
    "collapsed": false
   },
   "outputs": [],
   "source": [
    "import pandas as pd\n",
    "wb = pd.read_excel('performance.xlsx', sheetname=None)"
   ]
  },
  {
   "cell_type": "markdown",
   "metadata": {},
   "source": [
    "4.1 策略整体表现\n",
    "-------------------"
   ]
  },
  {
   "cell_type": "code",
   "execution_count": null,
   "metadata": {
    "collapsed": false
   },
   "outputs": [],
   "source": [
    "wb['perf_metrics']"
   ]
  },
  {
   "cell_type": "markdown",
   "metadata": {},
   "source": [
    "4.2 策略表现历史时间序列\n",
    "-------------------------"
   ]
  },
  {
   "cell_type": "code",
   "execution_count": null,
   "metadata": {
    "collapsed": false
   },
   "outputs": [],
   "source": [
    "wb['perf_series'].tail()"
   ]
  },
  {
   "cell_type": "markdown",
   "metadata": {},
   "source": [
    "4.3 策略表现（分证券）\n",
    "------------------"
   ]
  },
  {
   "cell_type": "code",
   "execution_count": null,
   "metadata": {
    "collapsed": false
   },
   "outputs": [],
   "source": [
    "wb['equity_curve'].tail()"
   ]
  },
  {
   "cell_type": "markdown",
   "metadata": {},
   "source": [
    "4.4 策略指令簿\n",
    "------------------"
   ]
  },
  {
   "cell_type": "code",
   "execution_count": null,
   "metadata": {
    "collapsed": false
   },
   "outputs": [],
   "source": [
    "wb['order_book'].tail()"
   ]
  },
  {
   "cell_type": "markdown",
   "metadata": {},
   "source": [
    "4.5 策略成交簿\n",
    "----------------"
   ]
  },
  {
   "cell_type": "code",
   "execution_count": null,
   "metadata": {
    "collapsed": false
   },
   "outputs": [],
   "source": [
    "wb['filled_book'].tail()"
   ]
  }
 ],
 "metadata": {
  "kernelspec": {
   "display_name": "Python 2",
   "language": "python",
   "name": "python2"
  },
  "language_info": {
   "codemirror_mode": {
    "name": "ipython",
    "version": 2
   },
   "file_extension": ".py",
   "mimetype": "text/x-python",
   "name": "python",
   "nbconvert_exporter": "python",
   "pygments_lexer": "ipython2",
   "version": "2.7.10"
  }
 },
 "nbformat": 4,
 "nbformat_minor": 0
}
