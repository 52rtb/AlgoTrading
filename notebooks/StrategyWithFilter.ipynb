{
 "cells": [
  {
   "cell_type": "markdown",
   "metadata": {},
   "source": [
    "带有过滤器的交易策略\n",
    "=============\n",
    "***"
   ]
  },
  {
   "cell_type": "markdown",
   "metadata": {},
   "source": [
    "1. 策略描述\n",
    "----------\n",
    "***"
   ]
  },
  {
   "cell_type": "markdown",
   "metadata": {},
   "source": [
    "* 策略的信号来自于长期均线（120天）减去短期均线（10天）\n",
    "* 备选股票的过去30日最大值必须大于15元"
   ]
  },
  {
   "cell_type": "code",
   "execution_count": null,
   "metadata": {
    "collapsed": true,
    "scrolled": true
   },
   "outputs": [],
   "source": [
    "%matplotlib inline\n",
    "import datetime as dt\n",
    "\n",
    "from AlgoTrading.Strategy.Strategy import Strategy\n",
    "from AlgoTrading.Backtest import strategyRunner\n",
    "from AlgoTrading.Backtest import DataSource\n",
    "from PyFin.API import MA\n",
    "from PyFin.API import MAX"
   ]
  },
  {
   "cell_type": "markdown",
   "metadata": {},
   "source": [
    "* ``filter = MAX(30, 'high') > 15.0``：策略的过滤条件\n",
    "* ``indicator = MA(10, 'close') - MA(120, 'close')``：策略的指标\n",
    "* ``self.signal = indicator[filter]``：指标经过滤后产生信号"
   ]
  },
  {
   "cell_type": "code",
   "execution_count": null,
   "metadata": {
    "collapsed": true,
    "scrolled": true
   },
   "outputs": [],
   "source": [
    "class MovingAverageCrossStrategy(Strategy):\n",
    "    def __init__(self):\n",
    "        filtering = MAX(30, 'high') > 15.0\n",
    "        indicator = MA(10, 'close') - MA(30, 'close')\n",
    "        # 使用过滤器过滤出有效的指标\n",
    "        self.signal = indicator[filtering]\n",
    "\n",
    "    def handle_data(self):\n",
    "        for s in self.universe:\n",
    "            if self.signal[s] > 0. and self.secPos[s] == 0:\n",
    "                self.order(s, 1, quantity=1000)\n",
    "            elif self.signal[s] < 0. and self.secPos[s] != 0:\n",
    "                self.order(s, -1, quantity=1000)"
   ]
  },
  {
   "cell_type": "markdown",
   "metadata": {},
   "source": [
    "2. 策略运行设置\n",
    "-----------------\n",
    "***"
   ]
  },
  {
   "cell_type": "markdown",
   "metadata": {},
   "source": [
    "需要设置策略运行的基本参数:\n",
    "\n",
    "* ``universe``: *证券池*\n",
    "* ``initialCapital``：*初始资金*\n",
    "* ``startDate``：*回测开始日期*\n",
    "* ``endDate``：*回测结束日期*\n",
    "* ``dataSource``：*数据源*\n",
    "* ``freq``：回测时间频率（分钟），仅当使用``DataSource.DXDataCenter``时有效。"
   ]
  },
  {
   "cell_type": "code",
   "execution_count": null,
   "metadata": {
    "collapsed": false,
    "scrolled": true
   },
   "outputs": [],
   "source": [
    "def run_example():\n",
    "    universe = ['000001.XSHE', '000002.XSHE', '000004.XSHE', '000005.XSHE', '000006.XSHE', '000007.XSHE', '000008.XSHE']\n",
    "    initialCapital = 100000.0\n",
    "    startDate = dt.datetime(2006, 10, 1)\n",
    "    endDate = dt.datetime(2015, 10, 1)\n",
    "\n",
    "    strategyRunner(userStrategy=MovingAverageCrossStrategy,\n",
    "                   initialCapital=initialCapital,\n",
    "                   symbolList=universe,\n",
    "                   startDate=startDate,\n",
    "                   endDate=endDate,\n",
    "                   dataSource=DataSource.DataYes,\n",
    "                   logLevel='critical',\n",
    "                   benchmark='000300.zicn',\n",
    "                   freq=1,\n",
    "                   saveFile=True,\n",
    "                   plot=True)"
   ]
  },
  {
   "cell_type": "markdown",
   "metadata": {},
   "source": [
    "3. 策略运行并输出\n",
    "-----------------\n",
    "***"
   ]
  },
  {
   "cell_type": "code",
   "execution_count": null,
   "metadata": {
    "collapsed": false,
    "scrolled": false
   },
   "outputs": [],
   "source": [
    "run_example()"
   ]
  }
 ],
 "metadata": {
  "kernelspec": {
   "display_name": "Python 2",
   "language": "python",
   "name": "python2"
  },
  "language_info": {
   "codemirror_mode": {
    "name": "ipython",
    "version": 2
   },
   "file_extension": ".py",
   "mimetype": "text/x-python",
   "name": "python",
   "nbconvert_exporter": "python",
   "pygments_lexer": "ipython2",
   "version": "2.7.10"
  }
 },
 "nbformat": 4,
 "nbformat_minor": 0
}
